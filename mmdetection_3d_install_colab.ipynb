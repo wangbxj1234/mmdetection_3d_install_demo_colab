{
  "nbformat": 4,
  "nbformat_minor": 0,
  "metadata": {
    "colab": {
      "name": "mm3d install（%cd）.ipynb",
      "provenance": [],
      "collapsed_sections": [],
      "machine_shape": "hm"
    },
    "kernelspec": {
      "name": "python3",
      "display_name": "Python 3"
    },
    "language_info": {
      "name": "python"
    },
    "accelerator": "GPU"
  },
  "cells": [
    {
      "cell_type": "code",
      "metadata": {
        "colab": {
          "base_uri": "https://localhost:8080/"
        },
        "id": "4Jpb1faL70CD",
        "outputId": "9f40ace5-80b0-48f1-bd4d-7c412c5bf55b"
      },
      "source": [
        "import torch\n",
        "print(torch.__version__)#for the next cell's input"
      ],
      "execution_count": 1,
      "outputs": [
        {
          "output_type": "stream",
          "name": "stdout",
          "text": [
            "1.9.0+cu111\n"
          ]
        }
      ]
    },
    {
      "cell_type": "code",
      "metadata": {
        "id": "sJYY-ndM6pXQ"
      },
      "source": [
        "!pip install mmcv-full -f https://download.openmmlab.com/mmcv/dist/cu111/torch1.9.0/index.html"
      ],
      "execution_count": null,
      "outputs": []
    },
    {
      "cell_type": "code",
      "metadata": {
        "id": "3fmxT6H29zHN"
      },
      "source": [
        "!pip install mmdet==2.14.0"
      ],
      "execution_count": null,
      "outputs": []
    },
    {
      "cell_type": "code",
      "metadata": {
        "id": "4NvdBloH91_f"
      },
      "source": [
        "!pip install mmsegmentation==0.14.1"
      ],
      "execution_count": null,
      "outputs": []
    },
    {
      "cell_type": "code",
      "metadata": {
        "colab": {
          "base_uri": "https://localhost:8080/"
        },
        "id": "OXrWbOgK98KY",
        "outputId": "990a1c78-4277-4c00-ab05-5c394a086ddf"
      },
      "source": [
        "!git clone https://github.com/open-mmlab/mmdetection3d.git"
      ],
      "execution_count": 5,
      "outputs": [
        {
          "output_type": "stream",
          "name": "stdout",
          "text": [
            "Cloning into 'mmdetection3d'...\n",
            "remote: Enumerating objects: 10803, done.\u001b[K\n",
            "remote: Counting objects: 100% (1946/1946), done.\u001b[K\n",
            "remote: Compressing objects: 100% (1239/1239), done.\u001b[K\n",
            "remote: Total 10803 (delta 1051), reused 1234 (delta 688), pack-reused 8857\u001b[K\n",
            "Receiving objects: 100% (10803/10803), 14.84 MiB | 24.48 MiB/s, done.\n",
            "Resolving deltas: 100% (7088/7088), done.\n"
          ]
        }
      ]
    },
    {
      "cell_type": "code",
      "metadata": {
        "colab": {
          "base_uri": "https://localhost:8080/"
        },
        "id": "sNI-SmzL1YON",
        "outputId": "24a5dead-a4e5-46eb-e95a-1d59003a6cdb"
      },
      "source": [
        "%cd '/content/mmdetection3d/'"
      ],
      "execution_count": 6,
      "outputs": [
        {
          "output_type": "stream",
          "name": "stdout",
          "text": [
            "/content/mmdetection3d\n"
          ]
        }
      ]
    },
    {
      "cell_type": "code",
      "metadata": {
        "colab": {
          "base_uri": "https://localhost:8080/",
          "height": 35
        },
        "id": "-tdMYiKP3nA_",
        "outputId": "86b769b9-b8fc-4677-8828-f1124b8a97a3"
      },
      "source": [
        "%pwd"
      ],
      "execution_count": 7,
      "outputs": [
        {
          "output_type": "execute_result",
          "data": {
            "application/vnd.google.colaboratory.intrinsic+json": {
              "type": "string"
            },
            "text/plain": [
              "'/content/mmdetection3d'"
            ]
          },
          "metadata": {},
          "execution_count": 7
        }
      ]
    },
    {
      "cell_type": "code",
      "metadata": {
        "id": "lwLqDwoz-CXA"
      },
      "source": [
        "!python setup.py develop"
      ],
      "execution_count": null,
      "outputs": []
    },
    {
      "cell_type": "code",
      "metadata": {
        "id": "zyPty4045yZ6"
      },
      "source": [
        "!pip install numba"
      ],
      "execution_count": null,
      "outputs": []
    },
    {
      "cell_type": "code",
      "metadata": {
        "id": "MSXe-Znm6_IL"
      },
      "source": [
        "%pycat mmdet3d/datasets/pipelines/data_augment_utils.py #since thenumba.errors would lead to a bug,rewrite it to avoid this."
      ],
      "execution_count": 10,
      "outputs": []
    },
    {
      "cell_type": "code",
      "metadata": {
        "colab": {
          "base_uri": "https://localhost:8080/"
        },
        "id": "IXpaGzSS7LWa",
        "outputId": "f066e1a9-749b-4deb-a8e7-54933508bb96"
      },
      "source": [
        "%%writefile mmdet3d/datasets/pipelines/data_augment_utils.py\n",
        "import numba\n",
        "import numpy as np\n",
        "import warnings\n",
        "from numba import NumbaPerformanceWarning\n",
        "\n",
        "from mmdet3d.core.bbox import box_np_ops\n",
        "\n",
        "warnings.filterwarnings('ignore', category=NumbaPerformanceWarning)\n",
        "\n",
        "\n",
        "@numba.njit\n",
        "def _rotation_box2d_jit_(corners, angle, rot_mat_T):\n",
        "    \"\"\"Rotate 2D boxes.\n",
        "\n",
        "    Args:\n",
        "        corners (np.ndarray): Corners of boxes.\n",
        "        angle (float): Rotation angle.\n",
        "        rot_mat_T (np.ndarray): Transposed rotation matrix.\n",
        "    \"\"\"\n",
        "    rot_sin = np.sin(angle)\n",
        "    rot_cos = np.cos(angle)\n",
        "    rot_mat_T[0, 0] = rot_cos\n",
        "    rot_mat_T[0, 1] = -rot_sin\n",
        "    rot_mat_T[1, 0] = rot_sin\n",
        "    rot_mat_T[1, 1] = rot_cos\n",
        "    corners[:] = corners @ rot_mat_T\n",
        "\n",
        "\n",
        "@numba.jit(nopython=True)\n",
        "def box_collision_test(boxes, qboxes, clockwise=True):\n",
        "    \"\"\"Box collision test.\n",
        "\n",
        "    Args:\n",
        "        boxes (np.ndarray): Corners of current boxes.\n",
        "        qboxes (np.ndarray): Boxes to be avoid colliding.\n",
        "        clockwise (bool): Whether the corners are in clockwise order.\n",
        "            Default: True.\n",
        "    \"\"\"\n",
        "    N = boxes.shape[0]\n",
        "    K = qboxes.shape[0]\n",
        "    ret = np.zeros((N, K), dtype=np.bool_)\n",
        "    slices = np.array([1, 2, 3, 0])\n",
        "    lines_boxes = np.stack((boxes, boxes[:, slices, :]),\n",
        "                           axis=2)  # [N, 4, 2(line), 2(xy)]\n",
        "    lines_qboxes = np.stack((qboxes, qboxes[:, slices, :]), axis=2)\n",
        "    # vec = np.zeros((2,), dtype=boxes.dtype)\n",
        "    boxes_standup = box_np_ops.corner_to_standup_nd_jit(boxes)\n",
        "    qboxes_standup = box_np_ops.corner_to_standup_nd_jit(qboxes)\n",
        "    for i in range(N):\n",
        "        for j in range(K):\n",
        "            # calculate standup first\n",
        "            iw = (\n",
        "                min(boxes_standup[i, 2], qboxes_standup[j, 2]) -\n",
        "                max(boxes_standup[i, 0], qboxes_standup[j, 0]))\n",
        "            if iw > 0:\n",
        "                ih = (\n",
        "                    min(boxes_standup[i, 3], qboxes_standup[j, 3]) -\n",
        "                    max(boxes_standup[i, 1], qboxes_standup[j, 1]))\n",
        "                if ih > 0:\n",
        "                    for k in range(4):\n",
        "                        for box_l in range(4):\n",
        "                            A = lines_boxes[i, k, 0]\n",
        "                            B = lines_boxes[i, k, 1]\n",
        "                            C = lines_qboxes[j, box_l, 0]\n",
        "                            D = lines_qboxes[j, box_l, 1]\n",
        "                            acd = (D[1] - A[1]) * (C[0] -\n",
        "                                                   A[0]) > (C[1] - A[1]) * (\n",
        "                                                       D[0] - A[0])\n",
        "                            bcd = (D[1] - B[1]) * (C[0] -\n",
        "                                                   B[0]) > (C[1] - B[1]) * (\n",
        "                                                       D[0] - B[0])\n",
        "                            if acd != bcd:\n",
        "                                abc = (C[1] - A[1]) * (B[0] - A[0]) > (\n",
        "                                    B[1] - A[1]) * (\n",
        "                                        C[0] - A[0])\n",
        "                                abd = (D[1] - A[1]) * (B[0] - A[0]) > (\n",
        "                                    B[1] - A[1]) * (\n",
        "                                        D[0] - A[0])\n",
        "                                if abc != abd:\n",
        "                                    ret[i, j] = True  # collision.\n",
        "                                    break\n",
        "                        if ret[i, j] is True:\n",
        "                            break\n",
        "                    if ret[i, j] is False:\n",
        "                        # now check complete overlap.\n",
        "                        # box overlap qbox:\n",
        "                        box_overlap_qbox = True\n",
        "                        for box_l in range(4):  # point l in qboxes\n",
        "                            for k in range(4):  # corner k in boxes\n",
        "                                vec = boxes[i, k] - boxes[i, (k + 1) % 4]\n",
        "                                if clockwise:\n",
        "                                    vec = -vec\n",
        "                                cross = vec[1] * (\n",
        "                                    boxes[i, k, 0] - qboxes[j, box_l, 0])\n",
        "                                cross -= vec[0] * (\n",
        "                                    boxes[i, k, 1] - qboxes[j, box_l, 1])\n",
        "                                if cross >= 0:\n",
        "                                    box_overlap_qbox = False\n",
        "                                    break\n",
        "                            if box_overlap_qbox is False:\n",
        "                                break\n",
        "\n",
        "                        if box_overlap_qbox is False:\n",
        "                            qbox_overlap_box = True\n",
        "                            for box_l in range(4):  # point box_l in boxes\n",
        "                                for k in range(4):  # corner k in qboxes\n",
        "                                    vec = qboxes[j, k] - qboxes[j, (k + 1) % 4]\n",
        "                                    if clockwise:\n",
        "                                        vec = -vec\n",
        "                                    cross = vec[1] * (\n",
        "                                        qboxes[j, k, 0] - boxes[i, box_l, 0])\n",
        "                                    cross -= vec[0] * (\n",
        "                                        qboxes[j, k, 1] - boxes[i, box_l, 1])\n",
        "                                    if cross >= 0:  #\n",
        "                                        qbox_overlap_box = False\n",
        "                                        break\n",
        "                                if qbox_overlap_box is False:\n",
        "                                    break\n",
        "                            if qbox_overlap_box:\n",
        "                                ret[i, j] = True  # collision.\n",
        "                        else:\n",
        "                            ret[i, j] = True  # collision.\n",
        "    return ret\n",
        "\n",
        "\n",
        "@numba.njit\n",
        "def noise_per_box(boxes, valid_mask, loc_noises, rot_noises):\n",
        "    \"\"\"Add noise to every box (only on the horizontal plane).\n",
        "\n",
        "    Args:\n",
        "        boxes (np.ndarray): Input boxes with shape (N, 5).\n",
        "        valid_mask (np.ndarray): Mask to indicate which boxes are valid\n",
        "            with shape (N).\n",
        "        loc_noises (np.ndarray): Location noises with shape (N, M, 3).\n",
        "        rot_noises (np.ndarray): Rotation noises with shape (N, M).\n",
        "\n",
        "    Returns:\n",
        "        np.ndarray: Mask to indicate whether the noise is\n",
        "            added successfully (pass the collision test).\n",
        "    \"\"\"\n",
        "    num_boxes = boxes.shape[0]\n",
        "    num_tests = loc_noises.shape[1]\n",
        "    box_corners = box_np_ops.box2d_to_corner_jit(boxes)\n",
        "    current_corners = np.zeros((4, 2), dtype=boxes.dtype)\n",
        "    rot_mat_T = np.zeros((2, 2), dtype=boxes.dtype)\n",
        "    success_mask = -np.ones((num_boxes, ), dtype=np.int64)\n",
        "    # print(valid_mask)\n",
        "    for i in range(num_boxes):\n",
        "        if valid_mask[i]:\n",
        "            for j in range(num_tests):\n",
        "                current_corners[:] = box_corners[i]\n",
        "                current_corners -= boxes[i, :2]\n",
        "                _rotation_box2d_jit_(current_corners, rot_noises[i, j],\n",
        "                                     rot_mat_T)\n",
        "                current_corners += boxes[i, :2] + loc_noises[i, j, :2]\n",
        "                coll_mat = box_collision_test(\n",
        "                    current_corners.reshape(1, 4, 2), box_corners)\n",
        "                coll_mat[0, i] = False\n",
        "                # print(coll_mat)\n",
        "                if not coll_mat.any():\n",
        "                    success_mask[i] = j\n",
        "                    box_corners[i] = current_corners\n",
        "                    break\n",
        "    return success_mask\n",
        "\n",
        "\n",
        "@numba.njit\n",
        "def noise_per_box_v2_(boxes, valid_mask, loc_noises, rot_noises,\n",
        "                      global_rot_noises):\n",
        "    \"\"\"Add noise to every box (only on the horizontal plane). Version 2 used\n",
        "    when enable global rotations.\n",
        "\n",
        "    Args:\n",
        "        boxes (np.ndarray): Input boxes with shape (N, 5).\n",
        "        valid_mask (np.ndarray): Mask to indicate which boxes are valid\n",
        "            with shape (N).\n",
        "        loc_noises (np.ndarray): Location noises with shape (N, M, 3).\n",
        "        rot_noises (np.ndarray): Rotation noises with shape (N, M).\n",
        "\n",
        "    Returns:\n",
        "        np.ndarray: Mask to indicate whether the noise is\n",
        "            added successfully (pass the collision test).\n",
        "    \"\"\"\n",
        "    num_boxes = boxes.shape[0]\n",
        "    num_tests = loc_noises.shape[1]\n",
        "    box_corners = box_np_ops.box2d_to_corner_jit(boxes)\n",
        "    current_corners = np.zeros((4, 2), dtype=boxes.dtype)\n",
        "    current_box = np.zeros((1, 5), dtype=boxes.dtype)\n",
        "    rot_mat_T = np.zeros((2, 2), dtype=boxes.dtype)\n",
        "    dst_pos = np.zeros((2, ), dtype=boxes.dtype)\n",
        "    success_mask = -np.ones((num_boxes, ), dtype=np.int64)\n",
        "    corners_norm = np.zeros((4, 2), dtype=boxes.dtype)\n",
        "    corners_norm[1, 1] = 1.0\n",
        "    corners_norm[2] = 1.0\n",
        "    corners_norm[3, 0] = 1.0\n",
        "    corners_norm -= np.array([0.5, 0.5], dtype=boxes.dtype)\n",
        "    corners_norm = corners_norm.reshape(4, 2)\n",
        "    for i in range(num_boxes):\n",
        "        if valid_mask[i]:\n",
        "            for j in range(num_tests):\n",
        "                current_box[0, :] = boxes[i]\n",
        "                current_radius = np.sqrt(boxes[i, 0]**2 + boxes[i, 1]**2)\n",
        "                current_grot = np.arctan2(boxes[i, 0], boxes[i, 1])\n",
        "                dst_grot = current_grot + global_rot_noises[i, j]\n",
        "                dst_pos[0] = current_radius * np.sin(dst_grot)\n",
        "                dst_pos[1] = current_radius * np.cos(dst_grot)\n",
        "                current_box[0, :2] = dst_pos\n",
        "                current_box[0, -1] += (dst_grot - current_grot)\n",
        "\n",
        "                rot_sin = np.sin(current_box[0, -1])\n",
        "                rot_cos = np.cos(current_box[0, -1])\n",
        "                rot_mat_T[0, 0] = rot_cos\n",
        "                rot_mat_T[0, 1] = -rot_sin\n",
        "                rot_mat_T[1, 0] = rot_sin\n",
        "                rot_mat_T[1, 1] = rot_cos\n",
        "                current_corners[:] = current_box[\n",
        "                    0, 2:4] * corners_norm @ rot_mat_T + current_box[0, :2]\n",
        "                current_corners -= current_box[0, :2]\n",
        "                _rotation_box2d_jit_(current_corners, rot_noises[i, j],\n",
        "                                     rot_mat_T)\n",
        "                current_corners += current_box[0, :2] + loc_noises[i, j, :2]\n",
        "                coll_mat = box_collision_test(\n",
        "                    current_corners.reshape(1, 4, 2), box_corners)\n",
        "                coll_mat[0, i] = False\n",
        "                if not coll_mat.any():\n",
        "                    success_mask[i] = j\n",
        "                    box_corners[i] = current_corners\n",
        "                    loc_noises[i, j, :2] += (dst_pos - boxes[i, :2])\n",
        "                    rot_noises[i, j] += (dst_grot - current_grot)\n",
        "                    break\n",
        "    return success_mask\n",
        "\n",
        "\n",
        "def _select_transform(transform, indices):\n",
        "    \"\"\"Select transform.\n",
        "\n",
        "    Args:\n",
        "        transform (np.ndarray): Transforms to select from.\n",
        "        indices (np.ndarray): Mask to indicate which transform to select.\n",
        "\n",
        "    Returns:\n",
        "        np.ndarray: Selected transforms.\n",
        "    \"\"\"\n",
        "    result = np.zeros((transform.shape[0], *transform.shape[2:]),\n",
        "                      dtype=transform.dtype)\n",
        "    for i in range(transform.shape[0]):\n",
        "        if indices[i] != -1:\n",
        "            result[i] = transform[i, indices[i]]\n",
        "    return result\n",
        "\n",
        "\n",
        "@numba.njit\n",
        "def _rotation_matrix_3d_(rot_mat_T, angle, axis):\n",
        "    \"\"\"Get the 3D rotation matrix.\n",
        "\n",
        "    Args:\n",
        "        rot_mat_T (np.ndarray): Transposed rotation matrix.\n",
        "        angle (float): Rotation angle.\n",
        "        axis (int): Rotation axis.\n",
        "    \"\"\"\n",
        "    rot_sin = np.sin(angle)\n",
        "    rot_cos = np.cos(angle)\n",
        "    rot_mat_T[:] = np.eye(3)\n",
        "    if axis == 1:\n",
        "        rot_mat_T[0, 0] = rot_cos\n",
        "        rot_mat_T[0, 2] = -rot_sin\n",
        "        rot_mat_T[2, 0] = rot_sin\n",
        "        rot_mat_T[2, 2] = rot_cos\n",
        "    elif axis == 2 or axis == -1:\n",
        "        rot_mat_T[0, 0] = rot_cos\n",
        "        rot_mat_T[0, 1] = -rot_sin\n",
        "        rot_mat_T[1, 0] = rot_sin\n",
        "        rot_mat_T[1, 1] = rot_cos\n",
        "    elif axis == 0:\n",
        "        rot_mat_T[1, 1] = rot_cos\n",
        "        rot_mat_T[1, 2] = -rot_sin\n",
        "        rot_mat_T[2, 1] = rot_sin\n",
        "        rot_mat_T[2, 2] = rot_cos\n",
        "\n",
        "\n",
        "@numba.njit\n",
        "def points_transform_(points, centers, point_masks, loc_transform,\n",
        "                      rot_transform, valid_mask):\n",
        "    \"\"\"Apply transforms to points and box centers.\n",
        "\n",
        "    Args:\n",
        "        points (np.ndarray): Input points.\n",
        "        centers (np.ndarray): Input box centers.\n",
        "        point_masks (np.ndarray): Mask to indicate which points need\n",
        "            to be transformed.\n",
        "        loc_transform (np.ndarray): Location transform to be applied.\n",
        "        rot_transform (np.ndarray): Rotation transform to be applied.\n",
        "        valid_mask (np.ndarray): Mask to indicate which boxes are valid.\n",
        "    \"\"\"\n",
        "    num_box = centers.shape[0]\n",
        "    num_points = points.shape[0]\n",
        "    rot_mat_T = np.zeros((num_box, 3, 3), dtype=points.dtype)\n",
        "    for i in range(num_box):\n",
        "        _rotation_matrix_3d_(rot_mat_T[i], rot_transform[i], 2)\n",
        "    for i in range(num_points):\n",
        "        for j in range(num_box):\n",
        "            if valid_mask[j]:\n",
        "                if point_masks[i, j] == 1:\n",
        "                    points[i, :3] -= centers[j, :3]\n",
        "                    points[i:i + 1, :3] = points[i:i + 1, :3] @ rot_mat_T[j]\n",
        "                    points[i, :3] += centers[j, :3]\n",
        "                    points[i, :3] += loc_transform[j]\n",
        "                    break  # only apply first box's transform\n",
        "\n",
        "\n",
        "@numba.njit\n",
        "def box3d_transform_(boxes, loc_transform, rot_transform, valid_mask):\n",
        "    \"\"\"Transform 3D boxes.\n",
        "\n",
        "    Args:\n",
        "        boxes (np.ndarray): 3D boxes to be transformed.\n",
        "        loc_transform (np.ndarray): Location transform to be applied.\n",
        "        rot_transform (np.ndarray): Rotation transform to be applied.\n",
        "        valid_mask (np.ndarray | None): Mask to indicate which boxes are valid.\n",
        "    \"\"\"\n",
        "    num_box = boxes.shape[0]\n",
        "    for i in range(num_box):\n",
        "        if valid_mask[i]:\n",
        "            boxes[i, :3] += loc_transform[i]\n",
        "            boxes[i, 6] += rot_transform[i]\n",
        "\n",
        "\n",
        "def noise_per_object_v3_(gt_boxes,\n",
        "                         points=None,\n",
        "                         valid_mask=None,\n",
        "                         rotation_perturb=np.pi / 4,\n",
        "                         center_noise_std=1.0,\n",
        "                         global_random_rot_range=np.pi / 4,\n",
        "                         num_try=100):\n",
        "    \"\"\"Random rotate or remove each groundtruth independently. use kitti viewer\n",
        "    to test this function points_transform_\n",
        "\n",
        "    Args:\n",
        "        gt_boxes (np.ndarray): Ground truth boxes with shape (N, 7).\n",
        "        points (np.ndarray | None): Input point cloud with shape (M, 4).\n",
        "            Default: None.\n",
        "        valid_mask (np.ndarray | None): Mask to indicate which boxes are valid.\n",
        "            Default: None.\n",
        "        rotation_perturb (float): Rotation perturbation. Default: pi / 4.\n",
        "        center_noise_std (float): Center noise standard deviation.\n",
        "            Default: 1.0.\n",
        "        global_random_rot_range (float): Global random rotation range.\n",
        "            Default: pi/4.\n",
        "        num_try (int): Number of try. Default: 100.\n",
        "    \"\"\"\n",
        "    num_boxes = gt_boxes.shape[0]\n",
        "    if not isinstance(rotation_perturb, (list, tuple, np.ndarray)):\n",
        "        rotation_perturb = [-rotation_perturb, rotation_perturb]\n",
        "    if not isinstance(global_random_rot_range, (list, tuple, np.ndarray)):\n",
        "        global_random_rot_range = [\n",
        "            -global_random_rot_range, global_random_rot_range\n",
        "        ]\n",
        "    enable_grot = np.abs(global_random_rot_range[0] -\n",
        "                         global_random_rot_range[1]) >= 1e-3\n",
        "\n",
        "    if not isinstance(center_noise_std, (list, tuple, np.ndarray)):\n",
        "        center_noise_std = [\n",
        "            center_noise_std, center_noise_std, center_noise_std\n",
        "        ]\n",
        "    if valid_mask is None:\n",
        "        valid_mask = np.ones((num_boxes, ), dtype=np.bool_)\n",
        "    center_noise_std = np.array(center_noise_std, dtype=gt_boxes.dtype)\n",
        "\n",
        "    loc_noises = np.random.normal(\n",
        "        scale=center_noise_std, size=[num_boxes, num_try, 3])\n",
        "    rot_noises = np.random.uniform(\n",
        "        rotation_perturb[0], rotation_perturb[1], size=[num_boxes, num_try])\n",
        "    gt_grots = np.arctan2(gt_boxes[:, 0], gt_boxes[:, 1])\n",
        "    grot_lowers = global_random_rot_range[0] - gt_grots\n",
        "    grot_uppers = global_random_rot_range[1] - gt_grots\n",
        "    global_rot_noises = np.random.uniform(\n",
        "        grot_lowers[..., np.newaxis],\n",
        "        grot_uppers[..., np.newaxis],\n",
        "        size=[num_boxes, num_try])\n",
        "\n",
        "    origin = (0.5, 0.5, 0)\n",
        "    gt_box_corners = box_np_ops.center_to_corner_box3d(\n",
        "        gt_boxes[:, :3],\n",
        "        gt_boxes[:, 3:6],\n",
        "        gt_boxes[:, 6],\n",
        "        origin=origin,\n",
        "        axis=2)\n",
        "\n",
        "    # TODO: rewrite this noise box function?\n",
        "    if not enable_grot:\n",
        "        selected_noise = noise_per_box(gt_boxes[:, [0, 1, 3, 4, 6]],\n",
        "                                       valid_mask, loc_noises, rot_noises)\n",
        "    else:\n",
        "        selected_noise = noise_per_box_v2_(gt_boxes[:, [0, 1, 3, 4, 6]],\n",
        "                                           valid_mask, loc_noises, rot_noises,\n",
        "                                           global_rot_noises)\n",
        "\n",
        "    loc_transforms = _select_transform(loc_noises, selected_noise)\n",
        "    rot_transforms = _select_transform(rot_noises, selected_noise)\n",
        "    surfaces = box_np_ops.corner_to_surfaces_3d_jit(gt_box_corners)\n",
        "    if points is not None:\n",
        "        # TODO: replace this points_in_convex function by my tools?\n",
        "        point_masks = box_np_ops.points_in_convex_polygon_3d_jit(\n",
        "            points[:, :3], surfaces)\n",
        "        points_transform_(points, gt_boxes[:, :3], point_masks, loc_transforms,\n",
        "                          rot_transforms, valid_mask)\n",
        "\n",
        "    box3d_transform_(gt_boxes, loc_transforms, rot_transforms, valid_mask)\n",
        "\n"
      ],
      "execution_count": 11,
      "outputs": [
        {
          "output_type": "stream",
          "name": "stdout",
          "text": [
            "Overwriting mmdet3d/datasets/pipelines/data_augment_utils.py\n"
          ]
        }
      ]
    },
    {
      "cell_type": "code",
      "metadata": {
        "id": "rJS2vBHhEdmK",
        "colab": {
          "base_uri": "https://localhost:8080/"
        },
        "outputId": "21a705e1-118b-4473-f753-15b6fdbf915c"
      },
      "source": [
        "!pip install 'networkx>=2.2,<2.3' #to avoid a bug"
      ],
      "execution_count": 13,
      "outputs": [
        {
          "output_type": "stream",
          "name": "stdout",
          "text": [
            "Collecting networkx<2.3,>=2.2\n",
            "  Downloading networkx-2.2.zip (1.7 MB)\n",
            "\u001b[K     |████████████████████████████████| 1.7 MB 4.9 MB/s \n",
            "\u001b[?25hRequirement already satisfied: decorator>=4.3.0 in /usr/local/lib/python3.7/dist-packages (from networkx<2.3,>=2.2) (4.4.2)\n",
            "Building wheels for collected packages: networkx\n",
            "  Building wheel for networkx (setup.py) ... \u001b[?25l\u001b[?25hdone\n",
            "  Created wheel for networkx: filename=networkx-2.2-py2.py3-none-any.whl size=1526921 sha256=23282c793988d752d9dd82a0d90c32e46baf465a81801f68db4e881af185ed48\n",
            "  Stored in directory: /root/.cache/pip/wheels/49/fb/7f/02c31ca537b34e1073844b733832e4c3a94071d8edda2c0faa\n",
            "Successfully built networkx\n",
            "Installing collected packages: networkx\n",
            "  Attempting uninstall: networkx\n",
            "    Found existing installation: networkx 2.6.3\n",
            "    Uninstalling networkx-2.6.3:\n",
            "      Successfully uninstalled networkx-2.6.3\n",
            "\u001b[31mERROR: pip's dependency resolver does not currently take into account all the packages that are installed. This behaviour is the source of the following dependency conflicts.\n",
            "albumentations 0.1.12 requires imgaug<0.2.7,>=0.2.5, but you have imgaug 0.2.9 which is incompatible.\n",
            "mmdet3d 0.17.1 requires numba==0.48.0, but you have numba 0.51.2 which is incompatible.\u001b[0m\n",
            "Successfully installed networkx-2.2\n"
          ]
        }
      ]
    },
    {
      "cell_type": "code",
      "metadata": {
        "id": "dcG5YyxxXgGt"
      },
      "source": [
        "!wget 'https://download.openmmlab.com/mmdetection3d/v0.1.0_models/second/hv_second_secfpn_6x8_80e_kitti-3d-car/hv_second_secfpn_6x8_80e_kitti-3d-car_20200620_230238-393f000c.pth'\n",
        "#download the pre-trained model"
      ],
      "execution_count": null,
      "outputs": []
    },
    {
      "cell_type": "code",
      "metadata": {
        "colab": {
          "base_uri": "https://localhost:8080/"
        },
        "id": "62oB_mAGUBIy",
        "outputId": "17f35c0a-8515-4b01-d71f-f9322cc6e0ca"
      },
      "source": [
        "!python demo/pcd_demo.py \\\n",
        "demo/data/kitti/kitti_000008.bin \\\n",
        "configs/second/hv_second_secfpn_6x8_80e_kitti-3d-car.py \\\n",
        "/content/mmdetection3d/hv_second_secfpn_6x8_80e_kitti-3d-car_20200620_230238-393f000c.pth \\\n",
        "--out-dir /content/mmdetection3d/demo"
      ],
      "execution_count": 17,
      "outputs": [
        {
          "output_type": "stream",
          "name": "stdout",
          "text": [
            "Use load_from_local loader\n"
          ]
        }
      ]
    },
    {
      "cell_type": "markdown",
      "metadata": {
        "id": "Y2t_m03pYqk_"
      },
      "source": [
        "Now you could find the input point cloud file and the prediection file  in'/content/mmdetection3d/demo/kitti_000008',you could download and view them by MeshLab."
      ]
    }
  ]
}